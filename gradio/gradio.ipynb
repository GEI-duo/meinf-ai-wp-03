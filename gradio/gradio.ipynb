{
 "cells": [
  {
   "cell_type": "code",
   "execution_count": 1,
   "metadata": {},
   "outputs": [
    {
     "name": "stdout",
     "output_type": "stream",
     "text": [
      "4.44.1\n"
     ]
    }
   ],
   "source": [
    "import gradio as gr\n",
    "print(gr.__version__)"
   ]
  },
  {
   "cell_type": "code",
   "execution_count": 2,
   "metadata": {},
   "outputs": [
    {
     "name": "stdout",
     "output_type": "stream",
     "text": [
      "Running on local URL:  http://127.0.0.1:7861\n",
      "\n",
      "To create a public link, set `share=True` in `launch()`.\n"
     ]
    },
    {
     "data": {
      "text/html": [
       "<div><iframe src=\"http://127.0.0.1:7861/\" width=\"100%\" height=\"500\" allow=\"autoplay; camera; microphone; clipboard-read; clipboard-write;\" frameborder=\"0\" allowfullscreen></iframe></div>"
      ],
      "text/plain": [
       "<IPython.core.display.HTML object>"
      ]
     },
     "metadata": {},
     "output_type": "display_data"
    },
    {
     "data": {
      "text/plain": []
     },
     "execution_count": 2,
     "metadata": {},
     "output_type": "execute_result"
    }
   ],
   "source": [
    "def greet(name):\n",
    "   return f\"Hello, {name}!\"\n",
    "demo = gr.Interface(\n",
    "   fn=greet,\n",
    "   inputs=['text'],\n",
    "   outputs=\"text\",\n",
    ")\n",
    "demo.launch()"
   ]
  },
  {
   "cell_type": "code",
   "execution_count": 3,
   "metadata": {},
   "outputs": [
    {
     "name": "stdout",
     "output_type": "stream",
     "text": [
      "Running on local URL:  http://127.0.0.1:7862\n",
      "\n",
      "To create a public link, set `share=True` in `launch()`.\n"
     ]
    },
    {
     "data": {
      "text/html": [
       "<div><iframe src=\"http://127.0.0.1:7862/\" width=\"100%\" height=\"500\" allow=\"autoplay; camera; microphone; clipboard-read; clipboard-write;\" frameborder=\"0\" allowfullscreen></iframe></div>"
      ],
      "text/plain": [
       "<IPython.core.display.HTML object>"
      ]
     },
     "metadata": {},
     "output_type": "display_data"
    },
    {
     "data": {
      "text/plain": []
     },
     "execution_count": 3,
     "metadata": {},
     "output_type": "execute_result"
    }
   ],
   "source": [
    "def process_inputs(text, image, audio, number, option):\n",
    "   # Process inputs and return results\n",
    "   return f\"Processed: {text}, {number}, {option}\"\n",
    "demo = gr.Interface(\n",
    "   fn=process_inputs,\n",
    "   inputs=[\n",
    "       gr.Textbox(label=\"Enter text\"),\n",
    "       gr.Image(label=\"Upload image\"),\n",
    "       gr.Audio(label=\"Upload audio\"),  # Uncomment this line to add audio input\n",
    "       gr.Slider(0, 100, label=\"Choose a number\"),\n",
    "       gr.Dropdown([\"Streamlit\", \"Taipy\", \"Gradio\"], label=\"Select a UI library\"),\n",
    "   ],\n",
    "   outputs=\"text\",\n",
    ")\n",
    "demo.launch()"
   ]
  },
  {
   "cell_type": "code",
   "execution_count": 4,
   "metadata": {},
   "outputs": [
    {
     "name": "stdout",
     "output_type": "stream",
     "text": [
      "Running on local URL:  http://127.0.0.1:7863\n",
      "\n",
      "To create a public link, set `share=True` in `launch()`.\n"
     ]
    },
    {
     "data": {
      "text/html": [
       "<div><iframe src=\"http://127.0.0.1:7863/\" width=\"100%\" height=\"500\" allow=\"autoplay; camera; microphone; clipboard-read; clipboard-write;\" frameborder=\"0\" allowfullscreen></iframe></div>"
      ],
      "text/plain": [
       "<IPython.core.display.HTML object>"
      ]
     },
     "metadata": {},
     "output_type": "display_data"
    },
    {
     "data": {
      "text/plain": []
     },
     "execution_count": 4,
     "metadata": {},
     "output_type": "execute_result"
    }
   ],
   "source": [
    "demo = gr.Interface(\n",
    "   fn=lambda x: int(x) ** 7,\n",
    "   inputs=gr.Textbox(\n",
    "       lines=5,\n",
    "       placeholder=\"Enter any number...\",\n",
    "       label=\"Custom textbox\",\n",
    "       info=\"This is a customized textbox component to raise any number to the power of 7.\",\n",
    "   ),\n",
    "   outputs=gr.Textbox(label=\"And the number is...\", show_copy_button=True),\n",
    ")\n",
    "demo.launch()"
   ]
  },
  {
   "cell_type": "code",
   "execution_count": 5,
   "metadata": {},
   "outputs": [],
   "source": [
    "# Create the Gradio interface\n",
    "def predict_price(carat, cut, color, clarity, depth, table, x, y, z):\n",
    "  \n",
    "   prediction = 5\n",
    "   return f\"Predicted Price: ${prediction:.2f}\""
   ]
  },
  {
   "cell_type": "code",
   "execution_count": 6,
   "metadata": {},
   "outputs": [
    {
     "name": "stdout",
     "output_type": "stream",
     "text": [
      "Running on local URL:  http://127.0.0.1:7864\n",
      "Running on public URL: https://caf6ac1eee07cfc81d.gradio.live\n",
      "\n",
      "This share link expires in 72 hours. For free permanent hosting and GPU upgrades, run `gradio deploy` from Terminal to deploy to Spaces (https://huggingface.co/spaces)\n"
     ]
    },
    {
     "data": {
      "text/html": [
       "<div><iframe src=\"https://caf6ac1eee07cfc81d.gradio.live\" width=\"100%\" height=\"500\" allow=\"autoplay; camera; microphone; clipboard-read; clipboard-write;\" frameborder=\"0\" allowfullscreen></iframe></div>"
      ],
      "text/plain": [
       "<IPython.core.display.HTML object>"
      ]
     },
     "metadata": {},
     "output_type": "display_data"
    },
    {
     "data": {
      "text/plain": []
     },
     "execution_count": 6,
     "metadata": {},
     "output_type": "execute_result"
    }
   ],
   "source": [
    "iface = gr.Interface(\n",
    "   fn=predict_price,\n",
    "   inputs=[\n",
    "       gr.Slider(\n",
    "           minimum=1,\n",
    "           maximum=10,\n",
    "           label=\"Carat\",\n",
    "       ),\n",
    "       gr.Dropdown([\"Fair\", \"Good\", \"Very Good\", \"Premium\", \"Ideal\"], label=\"Cut\"),\n",
    "       gr.Dropdown([\"D\", \"E\", \"F\", \"G\", \"H\", \"I\", \"J\"], label=\"Color\"),\n",
    "       gr.Dropdown(\n",
    "           [\"I1\", \"SI2\", \"SI1\", \"VS2\", \"VS1\", \"VVS2\", \"VVS1\", \"IF\"], label=\"Clarity\"\n",
    "       ),\n",
    "       gr.Slider(\n",
    "           minimum=1,\n",
    "           maximum=10,\n",
    "           label=\"Depth\",\n",
    "       ),\n",
    "       gr.Slider(\n",
    "           minimum=1,\n",
    "           maximum=10,\n",
    "           label=\"Table\",\n",
    "       ),\n",
    "       gr.Slider(minimum=1, maximum=10, label=\"X\"),\n",
    "       gr.Slider(minimum=1, maximum=10, label=\"Y\"),\n",
    "       gr.Slider(minimum=1, maximum=10, label=\"Z\"),\n",
    "   ],\n",
    "   outputs=\"text\",\n",
    "   title=\"Diamond Price Predictor\",\n",
    "   description=\"Enter the characteristics of a diamond to predict its price.\",\n",
    ")\n",
    "iface.launch(share=True)"
   ]
  },
  {
   "cell_type": "code",
   "execution_count": null,
   "metadata": {},
   "outputs": [],
   "source": [
    "iface = gr.Interface(\n",
    "   fn=predict_price,\n",
    "   inputs=[\n",
    "       gr.Slider(\n",
    "           minimum=1,\n",
    "           maximum=10,\n",
    "           label=\"Carat\",\n",
    "       ),\n",
    "       gr.Dropdown([\"Fair\", \"Good\", \"Very Good\", \"Premium\", \"Ideal\"], label=\"Cut\"),\n",
    "       gr.Dropdown([\"D\", \"E\", \"F\", \"G\", \"H\", \"I\", \"J\"], label=\"Color\"),\n",
    "       gr.Dropdown(\n",
    "           [\"I1\", \"SI2\", \"SI1\", \"VS2\", \"VS1\", \"VVS2\", \"VVS1\", \"IF\"], label=\"Clarity\"\n",
    "       ),\n",
    "       gr.Slider(\n",
    "           minimum=1,\n",
    "           maximum=10,\n",
    "           label=\"Depth\",\n",
    "       ),\n",
    "       gr.Slider(\n",
    "           minimum=1,\n",
    "           maximum=10,\n",
    "           label=\"Table\",\n",
    "       ),\n",
    "       gr.Slider(minimum=1, maximum=10, label=\"X\"),\n",
    "       gr.Slider(minimum=1, maximum=10, label=\"Y\"),\n",
    "       gr.Slider(minimum=1, maximum=10, label=\"Z\"),\n",
    "   ],\n",
    "   outputs=\"text\",\n",
    "   title=\"Diamond Price Predictor\",\n",
    "   description=\"Enter the characteristics of a diamond to predict its price.\",\n",
    ")\n",
    "iface.launch(share=True)"
   ]
  },
  {
   "cell_type": "code",
   "execution_count": 24,
   "metadata": {},
   "outputs": [
    {
     "name": "stdout",
     "output_type": "stream",
     "text": [
      "Running on local URL:  http://127.0.0.1:7880\n",
      "\n",
      "Thanks for being a Gradio user! If you have questions or feedback, please join our Discord server and chat with us: https://discord.gg/feTf9x3ZSB\n",
      "\n",
      "To create a public link, set `share=True` in `launch()`.\n"
     ]
    },
    {
     "data": {
      "text/html": [
       "<div><iframe src=\"http://127.0.0.1:7880/\" width=\"100%\" height=\"500\" allow=\"autoplay; camera; microphone; clipboard-read; clipboard-write;\" frameborder=\"0\" allowfullscreen></iframe></div>"
      ],
      "text/plain": [
       "<IPython.core.display.HTML object>"
      ]
     },
     "metadata": {},
     "output_type": "display_data"
    },
    {
     "data": {
      "text/plain": []
     },
     "execution_count": 24,
     "metadata": {},
     "output_type": "execute_result"
    }
   ],
   "source": [
    "import gradio as gr\n",
    "import requests\n",
    "import json\n",
    "import datetime\n",
    "\n",
    "# Function to send data to the API and fetch prediction\n",
    "def predict_premium(\n",
    "    age, gender, income, marital_status, dependents, education, occupation,\n",
    "    health_score, location, policy_type, claims, vehicle_age, credit_score,\n",
    "    insurance_duration, policy_start_date, feedback, smoking_status,\n",
    "    exercise_frequency, property_type\n",
    "):\n",
    "    data = {\n",
    "        'Age': age,\n",
    "        'Gender': gender,\n",
    "        'Annual Income': income,\n",
    "        'Marital Status': marital_status,\n",
    "        'Number of Dependents': dependents,\n",
    "        'Education Level': education,\n",
    "        'Occupation': occupation if occupation else None,\n",
    "        'Health Score': health_score,\n",
    "        'Location': location,\n",
    "        'Policy Type': policy_type,\n",
    "        'Previous Claims': claims,\n",
    "        'Vehicle Age': vehicle_age,\n",
    "        'Credit Score': credit_score if credit_score else None,\n",
    "        'Insurance Duration': insurance_duration,\n",
    "        'Policy Start Date': policy_start_date,\n",
    "        'Customer Feedback': feedback,\n",
    "        'Smoking Status': smoking_status,\n",
    "        'Exercise Frequency': exercise_frequency,\n",
    "        'Property Type': property_type\n",
    "    }\n",
    "    \n",
    "    print(data)\n",
    "\n",
    "    try:\n",
    "        response = requests.post(\"http://localhost:8000/predict\", json=data)\n",
    "        response.raise_for_status()\n",
    "        result = response.json()\n",
    "        return result\n",
    "    except requests.exceptions.RequestException as e:\n",
    "        return f\"Error: {e}\"\n",
    "\n",
    "# Gradio Interface\n",
    "with gr.Blocks() as demo:\n",
    "    gr.Markdown(\"# Insurance Premium Prediction\")\n",
    "    \n",
    "    with gr.Column():\n",
    "        age = gr.Slider(18, 100, step=1, label=\"Age\", value=35)\n",
    "        gender = gr.Radio([\"Male\", \"Female\"], label=\"Gender\", value=\"Male\")\n",
    "        income = gr.Number(label=\"Annual Income\", value=24862.0)\n",
    "        marital_status = gr.Radio([\"Single\", \"Married\", \"Divorced\"], label=\"Marital Status\", value=\"Married\")\n",
    "        dependents = gr.Number(label=\"Number of Dependents\", value=3.0)\n",
    "    \n",
    "        education = gr.Radio([\"High School\", \"Bachelor's\", \"Master's\", \"PhD\"], label=\"Education Level\", value=\"PhD\")\n",
    "        occupation = gr.Radio([\"Employed\", \"Self-Employed\", \"Unemployed\"], label=\"Occupation\", value=\"Employed\")\n",
    "        health_score = gr.Slider(1, 100, scale=6, label=\"Health Score\", value=15.6867)\n",
    "        location = gr.Radio([\"Urban\", \"Suburban\", \"Rural\"], label=\"Location\", value=\"Urban\")\n",
    "        policy_type = gr.Radio([\"Basic\", \"Comprehensive\", \"Premium\"], label=\"Policy Type\", value=\"Basic\")\n",
    "    \n",
    "        claims = gr.Slider(0, 10, step=1, label=\"Previous Claims\", value=3.0)\n",
    "        vehicle_age = gr.Slider(1, 100, step=1, label=\"Vehicle Age (Years)\", value=3.0)\n",
    "        credit_score = gr.Slider(0, 1000, label=\"Credit Score (Optional)\")\n",
    "        insurance_duration = gr.Slider(1, 10, step=1, label=\"Insurance Duration (Months)\", value=6.0)\n",
    "        policy_start_date = gr.DateTime(label=\"Policy Start Date (YYYY-MM-DD HH:MM:SS)\", value=\"2019-12-19 15:21:39.189223\")\n",
    "\n",
    "        feedback = gr.Radio([\"Poor\", \"Average\", \"Good\"], label=\"Customer Feedback\", value=\"Average\")\n",
    "        smoking_status = gr.Radio([\"Yes\", \"No\"], label=\"Smoking Status\", value=\"Yes\")\n",
    "        exercise_frequency = gr.Radio([\"Daily\", \"Weekly\", \"Monthly\", \"Rarely\"], label=\"Exercise Frequency\", value=\"Rarely\")\n",
    "        property_type = gr.Radio([\"House\", \"Apartment\", \"Condo\"], label=\"Property Type\", value=\"Condo\")\n",
    "    \n",
    "    predict_button = gr.Button(\"Predict Premium\")\n",
    "    result = gr.Textbox(label=\"Premium Amount\", placeholder=\"Prediction will appear here\")\n",
    "    \n",
    "    predict_button.click(\n",
    "        predict_premium,\n",
    "        inputs=[\n",
    "            age, gender, income, marital_status, dependents, education,\n",
    "            occupation, health_score, location, policy_type, claims,\n",
    "            vehicle_age, credit_score, insurance_duration, policy_start_date,\n",
    "            feedback, smoking_status, exercise_frequency, property_type\n",
    "        ],\n",
    "        outputs=result\n",
    "    )\n",
    "\n",
    "demo.launch()"
   ]
  }
 ],
 "metadata": {
  "kernelspec": {
   "display_name": ".venv",
   "language": "python",
   "name": "python3"
  },
  "language_info": {
   "codemirror_mode": {
    "name": "ipython",
    "version": 3
   },
   "file_extension": ".py",
   "mimetype": "text/x-python",
   "name": "python",
   "nbconvert_exporter": "python",
   "pygments_lexer": "ipython3",
   "version": "3.9.13"
  }
 },
 "nbformat": 4,
 "nbformat_minor": 2
}
