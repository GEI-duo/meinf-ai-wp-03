{
 "cells": [
  {
   "cell_type": "markdown",
   "metadata": {},
   "source": [
    "# Work Package 3 (WP3): Open Kaggle Competition\n",
    "\n",
    "Supervised Machine Learning Model\n",
    "\n",
    "Development and Deployment\n",
    "\n",
    "---\n",
    "\n",
    "**Universitat de Lleida**  \n",
    "**Enginyeria Informàtica**  \n",
    "**Sistemes Intel·ligents**  \n",
    "\n",
    "---\n",
    "\n",
    "**Professor:** Mariano Garralda Barrio  \n",
    "\n",
    "**Authors:**  \n",
    "- Jordi García Ventura  \n",
    "- Christian López García  \n",
    "\n",
    "**Date:** 12/01/2025  \n"
   ]
  },
  {
   "cell_type": "markdown",
   "metadata": {},
   "source": [
    "## 0. Setup"
   ]
  },
  {
   "cell_type": "code",
   "execution_count": 1,
   "metadata": {},
   "outputs": [
    {
     "name": "stdout",
     "output_type": "stream",
     "text": [
      "Python 3.9.13\n"
     ]
    }
   ],
   "source": [
    "!python --version"
   ]
  },
  {
   "cell_type": "code",
   "execution_count": 111,
   "metadata": {},
   "outputs": [],
   "source": [
    "%%capture\n",
    "%pip install -r ../requirements.txt"
   ]
  },
  {
   "cell_type": "code",
   "execution_count": 3,
   "metadata": {},
   "outputs": [],
   "source": [
    "%matplotlib inline"
   ]
  },
  {
   "cell_type": "code",
   "execution_count": 118,
   "metadata": {},
   "outputs": [],
   "source": [
    "import sys\n",
    "sys.path.append(\"../\")\n",
    "\n",
    "%load_ext autoreload\n",
    "%autoreload 2\n",
    "from lib.cache import cache, DataFrameCache"
   ]
  },
  {
   "cell_type": "code",
   "execution_count": 131,
   "metadata": {},
   "outputs": [],
   "source": [
    "import webbrowser\n",
    "from pathlib import Path\n",
    "\n",
    "import matplotlib.pyplot as plt\n",
    "import numpy as np\n",
    "import pandas as pd\n",
    "import seaborn as sns\n",
    "from ydata_profiling import ProfileReport\n",
    "from sklearn.preprocessing import StandardScaler\n",
    "from xgboost import XGBRegressor\n",
    "from sklearn.model_selection import train_test_split\n",
    "from sklearn.metrics import root_mean_squared_log_error"
   ]
  },
  {
   "cell_type": "code",
   "execution_count": 20,
   "metadata": {},
   "outputs": [],
   "source": [
    "TRAIN_FILENAME = \"train.csv\"\n",
    "TEST_FILENAME = \"test.csv\"\n",
    "DATA_PATH = Path.joinpath(Path.cwd().parent, \"data\")\n",
    "CACHE_PATH = Path.joinpath(Path.cwd().parent, \"cache\")\n",
    "CACHE_IMAGES_PATH = Path.joinpath(CACHE_PATH, \"images\")\n",
    "CACHE_MODELS_PATH = Path.joinpath(CACHE_PATH, \"models\")\n",
    "CACHE_DATAFRAMES_PATH = Path.joinpath(CACHE_PATH, \"dataframes\")\n",
    "CACHE_NUMPY_PATH = Path.joinpath(CACHE_PATH, \"numpy\")"
   ]
  },
  {
   "cell_type": "code",
   "execution_count": 35,
   "metadata": {},
   "outputs": [],
   "source": [
    "df = pd.read_csv(DATA_PATH / TRAIN_FILENAME)"
   ]
  },
  {
   "cell_type": "code",
   "execution_count": 36,
   "metadata": {},
   "outputs": [],
   "source": [
    "dataframe_cache = DataFrameCache(CACHE_DATAFRAMES_PATH)\n",
    "dataframe_cache.save(\"0-original\", df)"
   ]
  },
  {
   "cell_type": "markdown",
   "metadata": {},
   "source": [
    "## 1. EDA"
   ]
  },
  {
   "cell_type": "code",
   "execution_count": 37,
   "metadata": {},
   "outputs": [
    {
     "name": "stdout",
     "output_type": "stream",
     "text": [
      "Generating profiling report...\n"
     ]
    },
    {
     "data": {
      "application/vnd.jupyter.widget-view+json": {
       "model_id": "8de8f501c2bb460aa2de6d013bc61b6d",
       "version_major": 2,
       "version_minor": 0
      },
      "text/plain": [
       "Summarize dataset:   0%|          | 0/5 [00:00<?, ?it/s]"
      ]
     },
     "metadata": {},
     "output_type": "display_data"
    },
    {
     "data": {
      "application/vnd.jupyter.widget-view+json": {
       "model_id": "72e08d4d69e74b3caba25d9fc5bc116f",
       "version_major": 2,
       "version_minor": 0
      },
      "text/plain": [
       "Generate report structure:   0%|          | 0/1 [00:00<?, ?it/s]"
      ]
     },
     "metadata": {},
     "output_type": "display_data"
    },
    {
     "data": {
      "application/vnd.jupyter.widget-view+json": {
       "model_id": "ebb078b4793e4994b842475382d1e59e",
       "version_major": 2,
       "version_minor": 0
      },
      "text/plain": [
       "Render HTML:   0%|          | 0/1 [00:00<?, ?it/s]"
      ]
     },
     "metadata": {},
     "output_type": "display_data"
    },
    {
     "data": {
      "application/vnd.jupyter.widget-view+json": {
       "model_id": "4df5c5f813054d0b856681c42013131b",
       "version_major": 2,
       "version_minor": 0
      },
      "text/plain": [
       "Export report to file:   0%|          | 0/1 [00:00<?, ?it/s]"
      ]
     },
     "metadata": {},
     "output_type": "display_data"
    },
    {
     "name": "stdout",
     "output_type": "stream",
     "text": [
      "Profiling report generated.\n"
     ]
    }
   ],
   "source": [
    "PROFILE_PATH = CACHE_PATH / \"profiling_report.html\"\n",
    "\n",
    "if not PROFILE_PATH.exists():\n",
    "    print(\"Generating profiling report...\")\n",
    "    profile = ProfileReport(df, title=\"Regression with an Insurance Dataset Report\", explorative=True)\n",
    "    profile.to_file(PROFILE_PATH)\n",
    "    print(\"Profiling report generated.\")"
   ]
  },
  {
   "cell_type": "code",
   "execution_count": 73,
   "metadata": {},
   "outputs": [
    {
     "data": {
      "text/plain": [
       "True"
      ]
     },
     "execution_count": 73,
     "metadata": {},
     "output_type": "execute_result"
    }
   ],
   "source": [
    "webbrowser.open(PROFILE_PATH.as_uri())"
   ]
  },
  {
   "cell_type": "markdown",
   "metadata": {},
   "source": [
    "## 2. Feature engineering"
   ]
  },
  {
   "cell_type": "code",
   "execution_count": 28,
   "metadata": {},
   "outputs": [],
   "source": [
    "df = dataframe_cache.load(\"0-original\")"
   ]
  },
  {
   "cell_type": "markdown",
   "metadata": {},
   "source": [
    "### Features\n",
    "\n",
    "1. `id`: Unique identifier for the record (Numerical)\n",
    "1. `Age`: Age of the insured individual (Numerical)\n",
    "1. `Gender`: Gender of the insured individual (Categorical: Male, Female)\n",
    "1. `Annual Income`: Annual income of the insured individual (Numerical, skewed)\n",
    "1. `Marital Status`: Marital status of the insured individual (Categorical: Single, Married, Divorced)\n",
    "1. `Number of Dependents`: Number of dependents (Numerical, with missing values)\n",
    "1. `Education Level`: Highest education level attained (Categorical: High School, Bachelor's, Master's, PhD)\n",
    "1. `Occupation`: Occupation of the insured individual (Categorical: Employed, Self-Employed, Unemployed)\n",
    "1. `Health Score`: A score representing the health status (Numerical, skewed)\n",
    "1. `Location`: Type of location (Categorical: Urban, Suburban, Rural)\n",
    "1. `Policy Type`: Type of insurance policy (Categorical: Basic, Comprehensive, Premium)\n",
    "1. `Previous Claims`: Number of previous claims made (Numerical, with outliers)\n",
    "1. `Vehicle Age`: Age of the vehicle insured (Numerical)\n",
    "1. `Credit Score`: Credit score of the insured individual (Numerical, with missing values)\n",
    "1. `Insurance Duration`: Duration of the insurance policy (Numerical, in years)\n",
    "1. `Policy Start Date`: Start date of the insurance policy (Text, improperly formatted)\n",
    "1. `Customer Feedback`: Short feedback comments from customers (Text)\n",
    "1. `Smoking Status`: Smoking status of the insured individual (Categorical: Yes, No)\n",
    "1. `Exercise Frequency`: Frequency of exercise (Categorical: Daily, Weekly, Monthly, Rarely)\n",
    "1. `Property Type`: Type of property owned (Categorical: House, Apartment, Condo)\n",
    "1. `Premium Amount`: Target variable representing the insurance premium amount (Numerical, skewed)"
   ]
  },
  {
   "cell_type": "markdown",
   "metadata": {},
   "source": [
    "We think that the 10 most important features related with the `Premium Amount` (target variable) are:\n",
    "1. `Policy Type`\n",
    "1. `Vehicle Age`\n",
    "1. `Previous Claims`\n",
    "1. `Annual Income`\n",
    "1. `Credit Score`\n",
    "1. `Age`\n",
    "1. `Insurance Duration`\n",
    "1. `Marital Status`\n",
    "1. `Occupation`\n",
    "1. `Location`"
   ]
  },
  {
   "cell_type": "code",
   "execution_count": 58,
   "metadata": {},
   "outputs": [
    {
     "data": {
      "text/html": [
       "<div>\n",
       "<style scoped>\n",
       "    .dataframe tbody tr th:only-of-type {\n",
       "        vertical-align: middle;\n",
       "    }\n",
       "\n",
       "    .dataframe tbody tr th {\n",
       "        vertical-align: top;\n",
       "    }\n",
       "\n",
       "    .dataframe thead th {\n",
       "        text-align: right;\n",
       "    }\n",
       "</style>\n",
       "<table border=\"1\" class=\"dataframe\">\n",
       "  <thead>\n",
       "    <tr style=\"text-align: right;\">\n",
       "      <th></th>\n",
       "      <th>id</th>\n",
       "      <th>Age</th>\n",
       "      <th>Annual Income</th>\n",
       "      <th>Number of Dependents</th>\n",
       "      <th>Health Score</th>\n",
       "      <th>Previous Claims</th>\n",
       "      <th>Vehicle Age</th>\n",
       "      <th>Credit Score</th>\n",
       "      <th>Insurance Duration</th>\n",
       "      <th>Premium Amount</th>\n",
       "    </tr>\n",
       "  </thead>\n",
       "  <tbody>\n",
       "    <tr>\n",
       "      <th>0</th>\n",
       "      <td>0</td>\n",
       "      <td>19.0</td>\n",
       "      <td>10049.0</td>\n",
       "      <td>1.0</td>\n",
       "      <td>22.598761</td>\n",
       "      <td>2.0</td>\n",
       "      <td>17.0</td>\n",
       "      <td>372.0</td>\n",
       "      <td>5.0</td>\n",
       "      <td>2869.0</td>\n",
       "    </tr>\n",
       "    <tr>\n",
       "      <th>1</th>\n",
       "      <td>1</td>\n",
       "      <td>39.0</td>\n",
       "      <td>31678.0</td>\n",
       "      <td>3.0</td>\n",
       "      <td>15.569731</td>\n",
       "      <td>1.0</td>\n",
       "      <td>12.0</td>\n",
       "      <td>694.0</td>\n",
       "      <td>2.0</td>\n",
       "      <td>1483.0</td>\n",
       "    </tr>\n",
       "    <tr>\n",
       "      <th>2</th>\n",
       "      <td>2</td>\n",
       "      <td>23.0</td>\n",
       "      <td>25602.0</td>\n",
       "      <td>3.0</td>\n",
       "      <td>47.177549</td>\n",
       "      <td>1.0</td>\n",
       "      <td>14.0</td>\n",
       "      <td>NaN</td>\n",
       "      <td>3.0</td>\n",
       "      <td>567.0</td>\n",
       "    </tr>\n",
       "    <tr>\n",
       "      <th>3</th>\n",
       "      <td>3</td>\n",
       "      <td>21.0</td>\n",
       "      <td>141855.0</td>\n",
       "      <td>2.0</td>\n",
       "      <td>10.938144</td>\n",
       "      <td>1.0</td>\n",
       "      <td>0.0</td>\n",
       "      <td>367.0</td>\n",
       "      <td>1.0</td>\n",
       "      <td>765.0</td>\n",
       "    </tr>\n",
       "    <tr>\n",
       "      <th>4</th>\n",
       "      <td>4</td>\n",
       "      <td>21.0</td>\n",
       "      <td>39651.0</td>\n",
       "      <td>1.0</td>\n",
       "      <td>20.376094</td>\n",
       "      <td>0.0</td>\n",
       "      <td>8.0</td>\n",
       "      <td>598.0</td>\n",
       "      <td>4.0</td>\n",
       "      <td>2022.0</td>\n",
       "    </tr>\n",
       "  </tbody>\n",
       "</table>\n",
       "</div>"
      ],
      "text/plain": [
       "   id   Age  Annual Income  Number of Dependents  Health Score  \\\n",
       "0   0  19.0        10049.0                   1.0     22.598761   \n",
       "1   1  39.0        31678.0                   3.0     15.569731   \n",
       "2   2  23.0        25602.0                   3.0     47.177549   \n",
       "3   3  21.0       141855.0                   2.0     10.938144   \n",
       "4   4  21.0        39651.0                   1.0     20.376094   \n",
       "\n",
       "   Previous Claims  Vehicle Age  Credit Score  Insurance Duration  \\\n",
       "0              2.0         17.0         372.0                 5.0   \n",
       "1              1.0         12.0         694.0                 2.0   \n",
       "2              1.0         14.0           NaN                 3.0   \n",
       "3              1.0          0.0         367.0                 1.0   \n",
       "4              0.0          8.0         598.0                 4.0   \n",
       "\n",
       "   Premium Amount  \n",
       "0          2869.0  \n",
       "1          1483.0  \n",
       "2           567.0  \n",
       "3           765.0  \n",
       "4          2022.0  "
      ]
     },
     "execution_count": 58,
     "metadata": {},
     "output_type": "execute_result"
    }
   ],
   "source": [
    "df_numerical = df.select_dtypes(include=[np.number])\n",
    "df_numerical.head()"
   ]
  },
  {
   "cell_type": "code",
   "execution_count": 56,
   "metadata": {},
   "outputs": [
    {
     "data": {
      "text/html": [
       "<div>\n",
       "<style scoped>\n",
       "    .dataframe tbody tr th:only-of-type {\n",
       "        vertical-align: middle;\n",
       "    }\n",
       "\n",
       "    .dataframe tbody tr th {\n",
       "        vertical-align: top;\n",
       "    }\n",
       "\n",
       "    .dataframe thead th {\n",
       "        text-align: right;\n",
       "    }\n",
       "</style>\n",
       "<table border=\"1\" class=\"dataframe\">\n",
       "  <thead>\n",
       "    <tr style=\"text-align: right;\">\n",
       "      <th></th>\n",
       "      <th>Gender</th>\n",
       "      <th>Marital Status</th>\n",
       "      <th>Education Level</th>\n",
       "      <th>Occupation</th>\n",
       "      <th>Location</th>\n",
       "      <th>Policy Type</th>\n",
       "      <th>Policy Start Date</th>\n",
       "      <th>Customer Feedback</th>\n",
       "      <th>Smoking Status</th>\n",
       "      <th>Exercise Frequency</th>\n",
       "      <th>Property Type</th>\n",
       "    </tr>\n",
       "  </thead>\n",
       "  <tbody>\n",
       "    <tr>\n",
       "      <th>0</th>\n",
       "      <td>Female</td>\n",
       "      <td>Married</td>\n",
       "      <td>Bachelor's</td>\n",
       "      <td>Self-Employed</td>\n",
       "      <td>Urban</td>\n",
       "      <td>Premium</td>\n",
       "      <td>2023-12-23 15:21:39.134960</td>\n",
       "      <td>Poor</td>\n",
       "      <td>No</td>\n",
       "      <td>Weekly</td>\n",
       "      <td>House</td>\n",
       "    </tr>\n",
       "    <tr>\n",
       "      <th>1</th>\n",
       "      <td>Female</td>\n",
       "      <td>Divorced</td>\n",
       "      <td>Master's</td>\n",
       "      <td>NaN</td>\n",
       "      <td>Rural</td>\n",
       "      <td>Comprehensive</td>\n",
       "      <td>2023-06-12 15:21:39.111551</td>\n",
       "      <td>Average</td>\n",
       "      <td>Yes</td>\n",
       "      <td>Monthly</td>\n",
       "      <td>House</td>\n",
       "    </tr>\n",
       "    <tr>\n",
       "      <th>2</th>\n",
       "      <td>Male</td>\n",
       "      <td>Divorced</td>\n",
       "      <td>High School</td>\n",
       "      <td>Self-Employed</td>\n",
       "      <td>Suburban</td>\n",
       "      <td>Premium</td>\n",
       "      <td>2023-09-30 15:21:39.221386</td>\n",
       "      <td>Good</td>\n",
       "      <td>Yes</td>\n",
       "      <td>Weekly</td>\n",
       "      <td>House</td>\n",
       "    </tr>\n",
       "    <tr>\n",
       "      <th>3</th>\n",
       "      <td>Male</td>\n",
       "      <td>Married</td>\n",
       "      <td>Bachelor's</td>\n",
       "      <td>NaN</td>\n",
       "      <td>Rural</td>\n",
       "      <td>Basic</td>\n",
       "      <td>2024-06-12 15:21:39.226954</td>\n",
       "      <td>Poor</td>\n",
       "      <td>Yes</td>\n",
       "      <td>Daily</td>\n",
       "      <td>Apartment</td>\n",
       "    </tr>\n",
       "    <tr>\n",
       "      <th>4</th>\n",
       "      <td>Male</td>\n",
       "      <td>Single</td>\n",
       "      <td>Bachelor's</td>\n",
       "      <td>Self-Employed</td>\n",
       "      <td>Rural</td>\n",
       "      <td>Premium</td>\n",
       "      <td>2021-12-01 15:21:39.252145</td>\n",
       "      <td>Poor</td>\n",
       "      <td>Yes</td>\n",
       "      <td>Weekly</td>\n",
       "      <td>House</td>\n",
       "    </tr>\n",
       "  </tbody>\n",
       "</table>\n",
       "</div>"
      ],
      "text/plain": [
       "   Gender Marital Status Education Level     Occupation  Location  \\\n",
       "0  Female        Married      Bachelor's  Self-Employed     Urban   \n",
       "1  Female       Divorced        Master's            NaN     Rural   \n",
       "2    Male       Divorced     High School  Self-Employed  Suburban   \n",
       "3    Male        Married      Bachelor's            NaN     Rural   \n",
       "4    Male         Single      Bachelor's  Self-Employed     Rural   \n",
       "\n",
       "     Policy Type           Policy Start Date Customer Feedback Smoking Status  \\\n",
       "0        Premium  2023-12-23 15:21:39.134960              Poor             No   \n",
       "1  Comprehensive  2023-06-12 15:21:39.111551           Average            Yes   \n",
       "2        Premium  2023-09-30 15:21:39.221386              Good            Yes   \n",
       "3          Basic  2024-06-12 15:21:39.226954              Poor            Yes   \n",
       "4        Premium  2021-12-01 15:21:39.252145              Poor            Yes   \n",
       "\n",
       "  Exercise Frequency Property Type  \n",
       "0             Weekly         House  \n",
       "1            Monthly         House  \n",
       "2             Weekly         House  \n",
       "3              Daily     Apartment  \n",
       "4             Weekly         House  "
      ]
     },
     "execution_count": 56,
     "metadata": {},
     "output_type": "execute_result"
    }
   ],
   "source": [
    "df_categorical = df.select_dtypes(include=[\"object\"])\n",
    "df_categorical.head()"
   ]
  },
  {
   "cell_type": "markdown",
   "metadata": {},
   "source": [
    "### Null values"
   ]
  },
  {
   "cell_type": "markdown",
   "metadata": {},
   "source": [
    "- `Age`: median\n",
    "- `Annual Income`: median\n",
    "- `Marital Status`:  mode\n",
    "- `Number of Dependents`: mode\n",
    "- `Occupation`: \"Unkown\" class\n",
    "- `Health Score`: mean\n",
    "- `Previous Claims`: median\n",
    "- `Vehicle Age`: median\n",
    "- `Credit Score`: median (could be binned and add an \"Unknown\" class)\n",
    "- `Insurance Duration`: median\n",
    "- `Customer Feedback`: \"No feedback\" class"
   ]
  },
  {
   "cell_type": "code",
   "execution_count": 72,
   "metadata": {},
   "outputs": [
    {
     "data": {
      "text/plain": [
       "Age                      18705\n",
       "Annual Income            44949\n",
       "Marital Status           18529\n",
       "Number of Dependents    109672\n",
       "Occupation              358075\n",
       "Health Score             74076\n",
       "Previous Claims         364029\n",
       "Vehicle Age                  6\n",
       "Credit Score            137882\n",
       "Insurance Duration           1\n",
       "Customer Feedback        77824\n",
       "dtype: int64"
      ]
     },
     "execution_count": 72,
     "metadata": {},
     "output_type": "execute_result"
    }
   ],
   "source": [
    "nulls = df.isnull().sum()\n",
    "nulls[nulls > 0]"
   ]
  },
  {
   "cell_type": "code",
   "execution_count": 75,
   "metadata": {},
   "outputs": [],
   "source": [
    "df_imputed = dataframe_cache.load(\"0-original\")\n",
    "df_imputed[\"Age\"] = df_imputed[\"Age\"].fillna(df_imputed[\"Age\"].median())\n",
    "df_imputed[\"Annual Income\"] = df_imputed[\"Annual Income\"].fillna(df_imputed[\"Annual Income\"].median())\n",
    "df_imputed[\"Marital Status\"] = df_imputed[\"Marital Status\"].fillna(df_imputed[\"Marital Status\"].mode().values[0])\n",
    "df_imputed[\"Number of Dependents\"] = df_imputed[\"Number of Dependents\"].fillna(df_imputed[\"Number of Dependents\"].mode().values[0])\n",
    "df_imputed[\"Occupation\"] = df_imputed[\"Occupation\"].fillna(\"Unknown\")\n",
    "df_imputed[\"Health Score\"] = df_imputed[\"Health Score\"].fillna(df_imputed[\"Health Score\"].mean())\n",
    "df_imputed[\"Previous Claims\"] = df_imputed[\"Previous Claims\"].fillna(df_imputed[\"Previous Claims\"].median())\n",
    "df_imputed[\"Vehicle Age\"] = df_imputed[\"Vehicle Age\"].fillna(df_imputed[\"Vehicle Age\"].median())\n",
    "df_imputed[\"Credit Score\"] = df_imputed[\"Credit Score\"].fillna(df_imputed[\"Credit Score\"].median())\n",
    "df_imputed[\"Insurance Duration\"] = df_imputed[\"Insurance Duration\"].fillna(df_imputed[\"Insurance Duration\"].median())\n",
    "df_imputed[\"Customer Feedback\"] = df_imputed[\"Customer Feedback\"].fillna(\"No feedback\")"
   ]
  },
  {
   "cell_type": "code",
   "execution_count": 80,
   "metadata": {},
   "outputs": [
    {
     "data": {
      "text/plain": [
       "np.int64(0)"
      ]
     },
     "execution_count": 80,
     "metadata": {},
     "output_type": "execute_result"
    }
   ],
   "source": [
    "df_imputed.isnull().sum().sum()"
   ]
  },
  {
   "cell_type": "code",
   "execution_count": 81,
   "metadata": {},
   "outputs": [],
   "source": [
    "dataframe_cache.save(\"1-imputed\", df_imputed)"
   ]
  },
  {
   "cell_type": "markdown",
   "metadata": {},
   "source": [
    "### Encoding"
   ]
  },
  {
   "cell_type": "markdown",
   "metadata": {},
   "source": [
    "- `Gender`: one-hot encoding\n",
    "- `Marital Status`: one-hot encoding\n",
    "- `Education Level`: one-hot encoding\n",
    "- `Occupation`: one-hot encoding\n",
    "- `Location`: one-hot encoding\n",
    "- `Policy Type`: ordinal encoding\n",
    "- `Policy Start Date`: year extraction\n",
    "- `Customer Feedback`: ordinal encoding\n",
    "- `Smoking Status`: binary encoding\n",
    "- `Exercise Frequency`: ordinal encoding\n",
    "- `Property Type`: one-hot encoding"
   ]
  },
  {
   "cell_type": "code",
   "execution_count": 101,
   "metadata": {},
   "outputs": [
    {
     "data": {
      "text/html": [
       "<div>\n",
       "<style scoped>\n",
       "    .dataframe tbody tr th:only-of-type {\n",
       "        vertical-align: middle;\n",
       "    }\n",
       "\n",
       "    .dataframe tbody tr th {\n",
       "        vertical-align: top;\n",
       "    }\n",
       "\n",
       "    .dataframe thead th {\n",
       "        text-align: right;\n",
       "    }\n",
       "</style>\n",
       "<table border=\"1\" class=\"dataframe\">\n",
       "  <thead>\n",
       "    <tr style=\"text-align: right;\">\n",
       "      <th></th>\n",
       "      <th>id</th>\n",
       "      <th>Age</th>\n",
       "      <th>Annual Income</th>\n",
       "      <th>Number of Dependents</th>\n",
       "      <th>Education Level</th>\n",
       "      <th>Health Score</th>\n",
       "      <th>Policy Type</th>\n",
       "      <th>Previous Claims</th>\n",
       "      <th>Vehicle Age</th>\n",
       "      <th>Credit Score</th>\n",
       "      <th>...</th>\n",
       "      <th>Gender_Male</th>\n",
       "      <th>Marital Status_Married</th>\n",
       "      <th>Marital Status_Single</th>\n",
       "      <th>Occupation_Self-Employed</th>\n",
       "      <th>Occupation_Unemployed</th>\n",
       "      <th>Occupation_Unknown</th>\n",
       "      <th>Location_Suburban</th>\n",
       "      <th>Location_Urban</th>\n",
       "      <th>Property Type_Condo</th>\n",
       "      <th>Property Type_House</th>\n",
       "    </tr>\n",
       "  </thead>\n",
       "  <tbody>\n",
       "    <tr>\n",
       "      <th>0</th>\n",
       "      <td>0</td>\n",
       "      <td>19.0</td>\n",
       "      <td>10049.0</td>\n",
       "      <td>1.0</td>\n",
       "      <td>1</td>\n",
       "      <td>22.598761</td>\n",
       "      <td>2</td>\n",
       "      <td>2.0</td>\n",
       "      <td>17.0</td>\n",
       "      <td>372.0</td>\n",
       "      <td>...</td>\n",
       "      <td>False</td>\n",
       "      <td>True</td>\n",
       "      <td>False</td>\n",
       "      <td>True</td>\n",
       "      <td>False</td>\n",
       "      <td>False</td>\n",
       "      <td>False</td>\n",
       "      <td>True</td>\n",
       "      <td>False</td>\n",
       "      <td>True</td>\n",
       "    </tr>\n",
       "    <tr>\n",
       "      <th>1</th>\n",
       "      <td>1</td>\n",
       "      <td>39.0</td>\n",
       "      <td>31678.0</td>\n",
       "      <td>3.0</td>\n",
       "      <td>2</td>\n",
       "      <td>15.569731</td>\n",
       "      <td>1</td>\n",
       "      <td>1.0</td>\n",
       "      <td>12.0</td>\n",
       "      <td>694.0</td>\n",
       "      <td>...</td>\n",
       "      <td>False</td>\n",
       "      <td>False</td>\n",
       "      <td>False</td>\n",
       "      <td>False</td>\n",
       "      <td>False</td>\n",
       "      <td>True</td>\n",
       "      <td>False</td>\n",
       "      <td>False</td>\n",
       "      <td>False</td>\n",
       "      <td>True</td>\n",
       "    </tr>\n",
       "    <tr>\n",
       "      <th>2</th>\n",
       "      <td>2</td>\n",
       "      <td>23.0</td>\n",
       "      <td>25602.0</td>\n",
       "      <td>3.0</td>\n",
       "      <td>0</td>\n",
       "      <td>47.177549</td>\n",
       "      <td>2</td>\n",
       "      <td>1.0</td>\n",
       "      <td>14.0</td>\n",
       "      <td>595.0</td>\n",
       "      <td>...</td>\n",
       "      <td>True</td>\n",
       "      <td>False</td>\n",
       "      <td>False</td>\n",
       "      <td>True</td>\n",
       "      <td>False</td>\n",
       "      <td>False</td>\n",
       "      <td>True</td>\n",
       "      <td>False</td>\n",
       "      <td>False</td>\n",
       "      <td>True</td>\n",
       "    </tr>\n",
       "    <tr>\n",
       "      <th>3</th>\n",
       "      <td>3</td>\n",
       "      <td>21.0</td>\n",
       "      <td>141855.0</td>\n",
       "      <td>2.0</td>\n",
       "      <td>1</td>\n",
       "      <td>10.938144</td>\n",
       "      <td>0</td>\n",
       "      <td>1.0</td>\n",
       "      <td>0.0</td>\n",
       "      <td>367.0</td>\n",
       "      <td>...</td>\n",
       "      <td>True</td>\n",
       "      <td>True</td>\n",
       "      <td>False</td>\n",
       "      <td>False</td>\n",
       "      <td>False</td>\n",
       "      <td>True</td>\n",
       "      <td>False</td>\n",
       "      <td>False</td>\n",
       "      <td>False</td>\n",
       "      <td>False</td>\n",
       "    </tr>\n",
       "    <tr>\n",
       "      <th>4</th>\n",
       "      <td>4</td>\n",
       "      <td>21.0</td>\n",
       "      <td>39651.0</td>\n",
       "      <td>1.0</td>\n",
       "      <td>1</td>\n",
       "      <td>20.376094</td>\n",
       "      <td>2</td>\n",
       "      <td>0.0</td>\n",
       "      <td>8.0</td>\n",
       "      <td>598.0</td>\n",
       "      <td>...</td>\n",
       "      <td>True</td>\n",
       "      <td>False</td>\n",
       "      <td>True</td>\n",
       "      <td>True</td>\n",
       "      <td>False</td>\n",
       "      <td>False</td>\n",
       "      <td>False</td>\n",
       "      <td>False</td>\n",
       "      <td>False</td>\n",
       "      <td>True</td>\n",
       "    </tr>\n",
       "  </tbody>\n",
       "</table>\n",
       "<p>5 rows × 26 columns</p>\n",
       "</div>"
      ],
      "text/plain": [
       "   id   Age  Annual Income  Number of Dependents  Education Level  \\\n",
       "0   0  19.0        10049.0                   1.0                1   \n",
       "1   1  39.0        31678.0                   3.0                2   \n",
       "2   2  23.0        25602.0                   3.0                0   \n",
       "3   3  21.0       141855.0                   2.0                1   \n",
       "4   4  21.0        39651.0                   1.0                1   \n",
       "\n",
       "   Health Score  Policy Type  Previous Claims  Vehicle Age  Credit Score  ...  \\\n",
       "0     22.598761            2              2.0         17.0         372.0  ...   \n",
       "1     15.569731            1              1.0         12.0         694.0  ...   \n",
       "2     47.177549            2              1.0         14.0         595.0  ...   \n",
       "3     10.938144            0              1.0          0.0         367.0  ...   \n",
       "4     20.376094            2              0.0          8.0         598.0  ...   \n",
       "\n",
       "   Gender_Male  Marital Status_Married  Marital Status_Single  \\\n",
       "0        False                    True                  False   \n",
       "1        False                   False                  False   \n",
       "2         True                   False                  False   \n",
       "3         True                    True                  False   \n",
       "4         True                   False                   True   \n",
       "\n",
       "   Occupation_Self-Employed  Occupation_Unemployed  Occupation_Unknown  \\\n",
       "0                      True                  False               False   \n",
       "1                     False                  False                True   \n",
       "2                      True                  False               False   \n",
       "3                     False                  False                True   \n",
       "4                      True                  False               False   \n",
       "\n",
       "   Location_Suburban  Location_Urban  Property Type_Condo  Property Type_House  \n",
       "0              False            True                False                 True  \n",
       "1              False           False                False                 True  \n",
       "2               True           False                False                 True  \n",
       "3              False           False                False                False  \n",
       "4              False           False                False                 True  \n",
       "\n",
       "[5 rows x 26 columns]"
      ]
     },
     "execution_count": 101,
     "metadata": {},
     "output_type": "execute_result"
    }
   ],
   "source": [
    "df_encoded = dataframe_cache.load(\"1-imputed\")\n",
    "df_encoded[\"Education Level\"] = df_encoded[\"Education Level\"].map({\"High School\": 0, \"Bachelor's\": 1, \"Master's\": 2, \"PhD\": 3})\n",
    "df_encoded[\"Policy Type\"] = df_encoded[\"Policy Type\"].map({\"Basic\": 0, \"Comprehensive\": 1, \"Premium\": 2})\n",
    "df_encoded[\"Policy Start Year\"] = pd.to_datetime(df_encoded[\"Policy Start Date\"]).dt.year\n",
    "df_encoded.drop(columns=[\"Policy Start Date\"], inplace=True)\n",
    "df_encoded[\"Customer Feedback\"] = df_encoded[\"Customer Feedback\"].map({\"Poor\": 0, \"Average\": 1, \"Good\": 2})\n",
    "df_encoded[\"Smoking Status\"] = df_encoded[\"Smoking Status\"].map({\"No\": 0, \"Yes\": 1})\n",
    "df_encoded[\"Exercise Frequency\"] = df_encoded[\"Exercise Frequency\"].map({\"Rarely\": 0, \"Monthly\": 1, \"Weekly\": 2, \"Daily\": 3})\n",
    "df_encoded = pd.get_dummies(df_encoded, columns=[\"Gender\", \"Marital Status\", \"Occupation\", \"Location\", \"Property Type\"], drop_first=True)\n",
    "df_encoded.head()"
   ]
  },
  {
   "cell_type": "code",
   "execution_count": 102,
   "metadata": {},
   "outputs": [],
   "source": [
    "dataframe_cache.save(\"2-encoded\", df_encoded)"
   ]
  },
  {
   "cell_type": "markdown",
   "metadata": {},
   "source": [
    "### Scaling"
   ]
  },
  {
   "cell_type": "code",
   "execution_count": 126,
   "metadata": {},
   "outputs": [
    {
     "data": {
      "text/html": [
       "<div>\n",
       "<style scoped>\n",
       "    .dataframe tbody tr th:only-of-type {\n",
       "        vertical-align: middle;\n",
       "    }\n",
       "\n",
       "    .dataframe tbody tr th {\n",
       "        vertical-align: top;\n",
       "    }\n",
       "\n",
       "    .dataframe thead th {\n",
       "        text-align: right;\n",
       "    }\n",
       "</style>\n",
       "<table border=\"1\" class=\"dataframe\">\n",
       "  <thead>\n",
       "    <tr style=\"text-align: right;\">\n",
       "      <th></th>\n",
       "      <th>id</th>\n",
       "      <th>Age</th>\n",
       "      <th>Annual Income</th>\n",
       "      <th>Number of Dependents</th>\n",
       "      <th>Education Level</th>\n",
       "      <th>Health Score</th>\n",
       "      <th>Policy Type</th>\n",
       "      <th>Previous Claims</th>\n",
       "      <th>Vehicle Age</th>\n",
       "      <th>Credit Score</th>\n",
       "      <th>...</th>\n",
       "      <th>Gender_Male</th>\n",
       "      <th>Marital Status_Married</th>\n",
       "      <th>Marital Status_Single</th>\n",
       "      <th>Occupation_Self-Employed</th>\n",
       "      <th>Occupation_Unemployed</th>\n",
       "      <th>Occupation_Unknown</th>\n",
       "      <th>Location_Suburban</th>\n",
       "      <th>Location_Urban</th>\n",
       "      <th>Property Type_Condo</th>\n",
       "      <th>Property Type_House</th>\n",
       "    </tr>\n",
       "  </thead>\n",
       "  <tbody>\n",
       "    <tr>\n",
       "      <th>0</th>\n",
       "      <td>-1.732049</td>\n",
       "      <td>-1.648301</td>\n",
       "      <td>-0.707414</td>\n",
       "      <td>-0.796935</td>\n",
       "      <td>-0.465410</td>\n",
       "      <td>-0.255071</td>\n",
       "      <td>1.221087</td>\n",
       "      <td>1.216739</td>\n",
       "      <td>1.286338</td>\n",
       "      <td>-1.567375</td>\n",
       "      <td>...</td>\n",
       "      <td>-1.004294</td>\n",
       "      <td>1.429421</td>\n",
       "      <td>-0.725646</td>\n",
       "      <td>1.801557</td>\n",
       "      <td>-0.547217</td>\n",
       "      <td>-0.652154</td>\n",
       "      <td>-0.709152</td>\n",
       "      <td>1.420839</td>\n",
       "      <td>-0.706673</td>\n",
       "      <td>1.413289</td>\n",
       "    </tr>\n",
       "    <tr>\n",
       "      <th>1</th>\n",
       "      <td>-1.732046</td>\n",
       "      <td>-0.159542</td>\n",
       "      <td>-0.023289</td>\n",
       "      <td>0.651486</td>\n",
       "      <td>0.433367</td>\n",
       "      <td>-0.849704</td>\n",
       "      <td>-0.003359</td>\n",
       "      <td>-0.002284</td>\n",
       "      <td>0.420713</td>\n",
       "      <td>0.714630</td>\n",
       "      <td>...</td>\n",
       "      <td>-1.004294</td>\n",
       "      <td>-0.699584</td>\n",
       "      <td>-0.725646</td>\n",
       "      <td>-0.555075</td>\n",
       "      <td>-0.547217</td>\n",
       "      <td>1.533380</td>\n",
       "      <td>-0.709152</td>\n",
       "      <td>-0.703809</td>\n",
       "      <td>-0.706673</td>\n",
       "      <td>1.413289</td>\n",
       "    </tr>\n",
       "    <tr>\n",
       "      <th>2</th>\n",
       "      <td>-1.732044</td>\n",
       "      <td>-1.350549</td>\n",
       "      <td>-0.215473</td>\n",
       "      <td>0.651486</td>\n",
       "      <td>-1.364188</td>\n",
       "      <td>1.824212</td>\n",
       "      <td>1.221087</td>\n",
       "      <td>-0.002284</td>\n",
       "      <td>0.766963</td>\n",
       "      <td>0.013020</td>\n",
       "      <td>...</td>\n",
       "      <td>0.995724</td>\n",
       "      <td>-0.699584</td>\n",
       "      <td>-0.725646</td>\n",
       "      <td>1.801557</td>\n",
       "      <td>-0.547217</td>\n",
       "      <td>-0.652154</td>\n",
       "      <td>1.410135</td>\n",
       "      <td>-0.703809</td>\n",
       "      <td>-0.706673</td>\n",
       "      <td>1.413289</td>\n",
       "    </tr>\n",
       "    <tr>\n",
       "      <th>3</th>\n",
       "      <td>-1.732041</td>\n",
       "      <td>-1.499425</td>\n",
       "      <td>3.461605</td>\n",
       "      <td>-0.072725</td>\n",
       "      <td>-0.465410</td>\n",
       "      <td>-1.241521</td>\n",
       "      <td>-1.227805</td>\n",
       "      <td>-0.002284</td>\n",
       "      <td>-1.656788</td>\n",
       "      <td>-1.602810</td>\n",
       "      <td>...</td>\n",
       "      <td>0.995724</td>\n",
       "      <td>1.429421</td>\n",
       "      <td>-0.725646</td>\n",
       "      <td>-0.555075</td>\n",
       "      <td>-0.547217</td>\n",
       "      <td>1.533380</td>\n",
       "      <td>-0.709152</td>\n",
       "      <td>-0.703809</td>\n",
       "      <td>-0.706673</td>\n",
       "      <td>-0.707570</td>\n",
       "    </tr>\n",
       "    <tr>\n",
       "      <th>4</th>\n",
       "      <td>-1.732038</td>\n",
       "      <td>-1.499425</td>\n",
       "      <td>0.228896</td>\n",
       "      <td>-0.796935</td>\n",
       "      <td>-0.465410</td>\n",
       "      <td>-0.443102</td>\n",
       "      <td>1.221087</td>\n",
       "      <td>-1.221307</td>\n",
       "      <td>-0.271787</td>\n",
       "      <td>0.034281</td>\n",
       "      <td>...</td>\n",
       "      <td>0.995724</td>\n",
       "      <td>-0.699584</td>\n",
       "      <td>1.378082</td>\n",
       "      <td>1.801557</td>\n",
       "      <td>-0.547217</td>\n",
       "      <td>-0.652154</td>\n",
       "      <td>-0.709152</td>\n",
       "      <td>-0.703809</td>\n",
       "      <td>-0.706673</td>\n",
       "      <td>1.413289</td>\n",
       "    </tr>\n",
       "  </tbody>\n",
       "</table>\n",
       "<p>5 rows × 26 columns</p>\n",
       "</div>"
      ],
      "text/plain": [
       "         id       Age  Annual Income  Number of Dependents  Education Level  \\\n",
       "0 -1.732049 -1.648301      -0.707414             -0.796935        -0.465410   \n",
       "1 -1.732046 -0.159542      -0.023289              0.651486         0.433367   \n",
       "2 -1.732044 -1.350549      -0.215473              0.651486        -1.364188   \n",
       "3 -1.732041 -1.499425       3.461605             -0.072725        -0.465410   \n",
       "4 -1.732038 -1.499425       0.228896             -0.796935        -0.465410   \n",
       "\n",
       "   Health Score  Policy Type  Previous Claims  Vehicle Age  Credit Score  ...  \\\n",
       "0     -0.255071     1.221087         1.216739     1.286338     -1.567375  ...   \n",
       "1     -0.849704    -0.003359        -0.002284     0.420713      0.714630  ...   \n",
       "2      1.824212     1.221087        -0.002284     0.766963      0.013020  ...   \n",
       "3     -1.241521    -1.227805        -0.002284    -1.656788     -1.602810  ...   \n",
       "4     -0.443102     1.221087        -1.221307    -0.271787      0.034281  ...   \n",
       "\n",
       "   Gender_Male  Marital Status_Married  Marital Status_Single  \\\n",
       "0    -1.004294                1.429421              -0.725646   \n",
       "1    -1.004294               -0.699584              -0.725646   \n",
       "2     0.995724               -0.699584              -0.725646   \n",
       "3     0.995724                1.429421              -0.725646   \n",
       "4     0.995724               -0.699584               1.378082   \n",
       "\n",
       "   Occupation_Self-Employed  Occupation_Unemployed  Occupation_Unknown  \\\n",
       "0                  1.801557              -0.547217           -0.652154   \n",
       "1                 -0.555075              -0.547217            1.533380   \n",
       "2                  1.801557              -0.547217           -0.652154   \n",
       "3                 -0.555075              -0.547217            1.533380   \n",
       "4                  1.801557              -0.547217           -0.652154   \n",
       "\n",
       "   Location_Suburban  Location_Urban  Property Type_Condo  Property Type_House  \n",
       "0          -0.709152        1.420839            -0.706673             1.413289  \n",
       "1          -0.709152       -0.703809            -0.706673             1.413289  \n",
       "2           1.410135       -0.703809            -0.706673             1.413289  \n",
       "3          -0.709152       -0.703809            -0.706673            -0.707570  \n",
       "4          -0.709152       -0.703809            -0.706673             1.413289  \n",
       "\n",
       "[5 rows x 26 columns]"
      ]
     },
     "execution_count": 126,
     "metadata": {},
     "output_type": "execute_result"
    }
   ],
   "source": [
    "df_scaled = dataframe_cache.load(\"2-encoded\")\n",
    "\n",
    "scaler = StandardScaler()\n",
    "columns_to_scale = df_scaled.columns.difference([\"Premium Amount\"])\n",
    "df_scaled[columns_to_scale] = scaler.fit_transform(df_scaled[columns_to_scale])\n",
    "df_scaled.head()"
   ]
  },
  {
   "cell_type": "code",
   "execution_count": 127,
   "metadata": {},
   "outputs": [],
   "source": [
    "dataframe_cache.save(\"3-scaled\", df_scaled)"
   ]
  },
  {
   "cell_type": "markdown",
   "metadata": {},
   "source": [
    "## 3. Model training"
   ]
  },
  {
   "cell_type": "code",
   "execution_count": 128,
   "metadata": {},
   "outputs": [],
   "source": [
    "df_train = dataframe_cache.load(\"3-scaled\")"
   ]
  },
  {
   "cell_type": "code",
   "execution_count": 134,
   "metadata": {},
   "outputs": [
    {
     "data": {
      "text/plain": [
       "np.float64(1.1387584826591357)"
      ]
     },
     "execution_count": 134,
     "metadata": {},
     "output_type": "execute_result"
    }
   ],
   "source": [
    "# XGBoost\n",
    "@cache(CACHE_MODELS_PATH / \"xgboost.joblib\")\n",
    "def train_xgboost(X_train, y_train):\n",
    "    model = XGBRegressor(objective=\"reg:squarederror\")\n",
    "    model.fit(X_train, y_train)\n",
    "    return model\n",
    "\n",
    "target = \"Premium Amount\"\n",
    "X = df_train.drop(columns=[target])\n",
    "y = df_train[target]\n",
    "\n",
    "X_train, X_test, y_train, y_test = train_test_split(X, y, test_size=0.2, random_state=42)\n",
    "\n",
    "model = train_xgboost(X_train, y_train)\n",
    "\n",
    "y_true = y_test\n",
    "y_pred = model.predict(X_test)\n",
    "root_mean_squared_log_error(y_true, y_pred)"
   ]
  }
 ],
 "metadata": {
  "kernelspec": {
   "display_name": ".venv",
   "language": "python",
   "name": "python3"
  },
  "language_info": {
   "codemirror_mode": {
    "name": "ipython",
    "version": 3
   },
   "file_extension": ".py",
   "mimetype": "text/x-python",
   "name": "python",
   "nbconvert_exporter": "python",
   "pygments_lexer": "ipython3",
   "version": "3.9.13"
  }
 },
 "nbformat": 4,
 "nbformat_minor": 2
}
