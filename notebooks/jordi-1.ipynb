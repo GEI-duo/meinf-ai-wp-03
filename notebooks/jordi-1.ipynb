{
 "cells": [
  {
   "cell_type": "markdown",
   "metadata": {},
   "source": [
    "# Work Package 3 (WP3): Open Kaggle Competition\n",
    "\n",
    "Supervised Machine Learning Model\n",
    "\n",
    "Development and Deployment\n",
    "\n",
    "---\n",
    "\n",
    "**Universitat de Lleida**  \n",
    "**Enginyeria Informàtica**  \n",
    "**Sistemes Intel·ligents**  \n",
    "\n",
    "---\n",
    "\n",
    "**Professor:** Mariano Garralda Barrio  \n",
    "\n",
    "**Authors:**  \n",
    "- Jordi García Ventura  \n",
    "- Christian López García  \n",
    "\n",
    "**Date:** 12/01/2025  \n"
   ]
  },
  {
   "cell_type": "markdown",
   "metadata": {},
   "source": [
    "## 0. Setup"
   ]
  },
  {
   "cell_type": "code",
   "execution_count": 1,
   "metadata": {},
   "outputs": [
    {
     "name": "stdout",
     "output_type": "stream",
     "text": [
      "Python 3.9.13\n"
     ]
    }
   ],
   "source": [
    "!python --version"
   ]
  },
  {
   "cell_type": "code",
   "execution_count": 2,
   "metadata": {},
   "outputs": [],
   "source": [
    "%%capture\n",
    "%pip install -r ../requirements.txt"
   ]
  },
  {
   "cell_type": "code",
   "execution_count": 3,
   "metadata": {},
   "outputs": [],
   "source": [
    "%matplotlib inline"
   ]
  },
  {
   "cell_type": "code",
   "execution_count": 18,
   "metadata": {},
   "outputs": [],
   "source": [
    "import sys\n",
    "sys.path.append(\"../\")\n",
    "from lib.cache import cache, DataFrameCache"
   ]
  },
  {
   "cell_type": "code",
   "execution_count": 24,
   "metadata": {},
   "outputs": [],
   "source": [
    "import webbrowser\n",
    "from pathlib import Path\n",
    "\n",
    "import matplotlib.pyplot as plt\n",
    "import numpy as np\n",
    "import pandas as pd\n",
    "import seaborn as sns\n",
    "from ydata_profiling import ProfileReport"
   ]
  },
  {
   "cell_type": "code",
   "execution_count": 20,
   "metadata": {},
   "outputs": [],
   "source": [
    "TRAIN_FILENAME = \"train.csv\"\n",
    "TEST_FILENAME = \"test.csv\"\n",
    "DATA_PATH = Path.joinpath(Path.cwd().parent, \"data\")\n",
    "CACHE_PATH = Path.joinpath(Path.cwd().parent, \"cache\")\n",
    "CACHE_IMAGES_PATH = Path.joinpath(CACHE_PATH, \"images\")\n",
    "CACHE_MODELS_PATH = Path.joinpath(CACHE_PATH, \"models\")\n",
    "CACHE_DATAFRAMES_PATH = Path.joinpath(CACHE_PATH, \"dataframes\")\n",
    "CACHE_NUMPY_PATH = Path.joinpath(CACHE_PATH, \"numpy\")"
   ]
  },
  {
   "cell_type": "code",
   "execution_count": 21,
   "metadata": {},
   "outputs": [],
   "source": [
    "df_train = pd.read_csv(DATA_PATH / TRAIN_FILENAME)\n",
    "df_test = pd.read_csv(DATA_PATH / TEST_FILENAME)\n",
    "df = pd.concat([df_train, df_test], keys=[\"train\", \"test\"])"
   ]
  },
  {
   "cell_type": "code",
   "execution_count": 25,
   "metadata": {},
   "outputs": [],
   "source": [
    "dataframe_cache = DataFrameCache(CACHE_DATAFRAMES_PATH)\n",
    "dataframe_cache.save(\"0-original\", df)"
   ]
  },
  {
   "cell_type": "markdown",
   "metadata": {},
   "source": [
    "## 1. EDA"
   ]
  },
  {
   "cell_type": "code",
   "execution_count": 22,
   "metadata": {},
   "outputs": [],
   "source": [
    "PROFILE_PATH = CACHE_PATH / \"profiling_report.html\"\n",
    "\n",
    "if not PROFILE_PATH.exists():\n",
    "    print(\"Generating profiling report...\")\n",
    "    profile = ProfileReport(df, title=\"Regression with an Insurance Dataset Report\", explorative=True)\n",
    "    profile.to_file(PROFILE_PATH)\n",
    "    print(\"Profiling report generated.\")"
   ]
  },
  {
   "cell_type": "code",
   "execution_count": 23,
   "metadata": {},
   "outputs": [
    {
     "data": {
      "text/plain": [
       "True"
      ]
     },
     "execution_count": 23,
     "metadata": {},
     "output_type": "execute_result"
    }
   ],
   "source": [
    "webbrowser.open(PROFILE_PATH.as_uri())"
   ]
  }
 ],
 "metadata": {
  "kernelspec": {
   "display_name": ".venv",
   "language": "python",
   "name": "python3"
  },
  "language_info": {
   "codemirror_mode": {
    "name": "ipython",
    "version": 3
   },
   "file_extension": ".py",
   "mimetype": "text/x-python",
   "name": "python",
   "nbconvert_exporter": "python",
   "pygments_lexer": "ipython3",
   "version": "3.9.13"
  }
 },
 "nbformat": 4,
 "nbformat_minor": 2
}
